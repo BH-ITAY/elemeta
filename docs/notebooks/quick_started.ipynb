{
 "cells": [
  {
   "cell_type": "markdown",
   "metadata": {
    "id": "SzWLNf_pXVCl"
   },
   "source": [
    "## Quick start"
   ]
  },
  {
   "cell_type": "markdown",
   "metadata": {},
   "source": [
    "it is possible to use wide viraite of out-of-the-box metadata extorctors found in the library(full list can be found here)"
   ]
  },
  {
   "cell_type": "code",
   "execution_count": 1,
   "metadata": {},
   "outputs": [
    {
     "name": "stdout",
     "output_type": "stream",
     "text": [
      "\r\n",
      "\u001b[1m[\u001b[0m\u001b[34;49mnotice\u001b[0m\u001b[1;39;49m]\u001b[0m\u001b[39;49m A new release of pip available: \u001b[0m\u001b[31;49m22.3.1\u001b[0m\u001b[39;49m -> \u001b[0m\u001b[32;49m23.0.1\u001b[0m\r\n",
      "\u001b[1m[\u001b[0m\u001b[34;49mnotice\u001b[0m\u001b[1;39;49m]\u001b[0m\u001b[39;49m To update, run: \u001b[0m\u001b[32;49mpip install --upgrade pip\u001b[0m\r\n"
     ]
    }
   ],
   "source": [
    "!pip install elemeta > /dev/null"
   ]
  },
  {
   "cell_type": "markdown",
   "metadata": {},
   "source": [
    "##### Sentiment Polarity\n",
    "* Polarity range between [-1,1]. \n",
    "* -1 defines a negative sentiment and 1 defines a positive sentiment. \n",
    "* Negation words reverse the polarity."
   ]
  },
  {
   "cell_type": "code",
   "execution_count": 2,
   "metadata": {},
   "outputs": [
    {
     "name": "stdout",
     "output_type": "stream",
     "text": [
      "0.6369\n",
      "-0.7845\n",
      "-0.5337\n"
     ]
    }
   ],
   "source": [
    "from elemeta.nlp.extractors.high_level.sentiment_polarity import SentimentPolarity\n",
    "\n",
    "sp = SentimentPolarity()\n",
    "print(sp(\"I love Superwise\"))\n",
    "print(sp(\"I hate haters\"))\n",
    "print(sp(\"This is not a super happy excited sentence\"))"
   ]
  },
  {
   "cell_type": "markdown",
   "metadata": {},
   "source": [
    "##### Detect Langauge\n",
    "This extractor will automatically detect the language of the text."
   ]
  },
  {
   "cell_type": "code",
   "execution_count": 3,
   "metadata": {},
   "outputs": [
    {
     "name": "stdout",
     "output_type": "stream",
     "text": [
      "en\n",
      "he\n",
      "fr\n",
      "zh\n"
     ]
    }
   ],
   "source": [
    "from elemeta.nlp.extractors.high_level.detect_langauge_fastText import DetectLangauge\n",
    "\n",
    "ld = DetectLangauge()\n",
    "print(ld(\"This text is in English\"))\n",
    "print(ld(\"הטקסט הזה בעברית\"))\n",
    "print(ld(\"Ce texte est en français\"))\n",
    "print(ld(\"这段文字是法语\"))"
   ]
  },
  {
   "cell_type": "markdown",
   "metadata": {},
   "source": [
    "### Enrichment Suite"
   ]
  },
  {
   "cell_type": "markdown",
   "metadata": {},
   "source": [
    "We can use MetadataExtractorsRunner to muliple metadata values at once.\n",
    "We can supply a list of metadate extractor we want to run and then we get a runner that can be applayed on text and getting list of metadata values.\n",
    "to run all the extractor on a text we can use runner funtion `run(text: str) -> Dict[str, Union[str, float, int]]`"
   ]
  },
  {
   "cell_type": "code",
   "execution_count": 4,
   "metadata": {
    "tags": []
   },
   "outputs": [
    {
     "data": {
      "text/plain": [
       "{'sentiment_polarity': 0.7096, 'detect_langauge': 'en'}"
      ]
     },
     "execution_count": 4,
     "metadata": {},
     "output_type": "execute_result"
    }
   ],
   "source": [
    "from elemeta.nlp.metadata_extractor_runner import MetadataExtractorsRunner\n",
    "\n",
    "metadata_extractor_runner = MetadataExtractorsRunner(metadata_extractors=[sp,ld])\n",
    "metadata_extractor_runner.run(\"This is a text about how good life is :)\")"
   ]
  },
  {
   "cell_type": "markdown",
   "metadata": {
    "tags": []
   },
   "source": [
    "If no metadata extractors supplyed a defalult set of extractors will be selected"
   ]
  },
  {
   "cell_type": "code",
   "execution_count": 5,
   "metadata": {},
   "outputs": [
    {
     "data": {
      "text/plain": [
       "{'detect_langauge': 'en',\n",
       " 'emoji_count': 0,\n",
       " 'text_complexity': 113.1,\n",
       " 'unique_word_ratio': 0.875,\n",
       " 'unique_word_count': 7,\n",
       " 'word_regex_matches_count': 11,\n",
       " 'number_count': 0,\n",
       " 'out_of_vocabulary_count': 2,\n",
       " 'must_appear_words_ratio': 0,\n",
       " 'sentence_count': 1,\n",
       " 'sentence_avg_length': 40.0,\n",
       " 'word_count': 9,\n",
       " 'avg_word_length': 3.2222222222222223,\n",
       " 'text_length': 40,\n",
       " 'stop_words_count': 5,\n",
       " 'punctuation_count': 2,\n",
       " 'special_chars_count': 0,\n",
       " 'capital_letters_ratio': 0.034482758620689655,\n",
       " 'regex_match_count': 1,\n",
       " 'email_count': 0,\n",
       " 'link_count': 0,\n",
       " 'hashtag_count': 0,\n",
       " 'mention_count': 0,\n",
       " 'syllable_count': 9,\n",
       " 'acronym_count': 0,\n",
       " 'date_count': 0}"
      ]
     },
     "execution_count": 5,
     "metadata": {},
     "output_type": "execute_result"
    }
   ],
   "source": [
    "from elemeta.nlp.metadata_extractor_runner import MetadataExtractorsRunner\n",
    "\n",
    "metadata_extractor_runner = MetadataExtractorsRunner()\n",
    "metadata_extractor_runner.run(\"This is a text about how good life is :)\")"
   ]
  },
  {
   "cell_type": "markdown",
   "metadata": {},
   "source": [
    "To add new `MetadataExtractor` to existing `MetadataExtractorsRunner` we can use\n",
    "`add_metadata_extractor(metadata_extractor: AbstractMetadataExtractor) -> None:`"
   ]
  },
  {
   "cell_type": "code",
   "execution_count": 6,
   "metadata": {
    "tags": []
   },
   "outputs": [
    {
     "data": {
      "text/plain": [
       "{'detect_langauge': 'en',\n",
       " 'emoji_count': 0,\n",
       " 'text_complexity': 113.1,\n",
       " 'unique_word_ratio': 0.875,\n",
       " 'unique_word_count': 7,\n",
       " 'word_regex_matches_count': 11,\n",
       " 'number_count': 0,\n",
       " 'out_of_vocabulary_count': 2,\n",
       " 'must_appear_words_ratio': 0,\n",
       " 'sentence_count': 1,\n",
       " 'sentence_avg_length': 40.0,\n",
       " 'word_count': 9,\n",
       " 'avg_word_length': 3.2222222222222223,\n",
       " 'text_length': 40,\n",
       " 'stop_words_count': 5,\n",
       " 'punctuation_count': 2,\n",
       " 'special_chars_count': 0,\n",
       " 'capital_letters_ratio': 0.034482758620689655,\n",
       " 'regex_match_count': 1,\n",
       " 'email_count': 0,\n",
       " 'link_count': 0,\n",
       " 'hashtag_count': 0,\n",
       " 'mention_count': 0,\n",
       " 'syllable_count': 9,\n",
       " 'acronym_count': 0,\n",
       " 'date_count': 0,\n",
       " 'number_of_good_in_text': 1}"
      ]
     },
     "execution_count": 6,
     "metadata": {},
     "output_type": "execute_result"
    }
   ],
   "source": [
    "from elemeta.nlp.extractors.high_level.regex_match_count import RegexMatchCount\n",
    "\n",
    "number_of_good_in_text = RegexMatchCount(name=\"number_of_good_in_text\",regex=\"good|Good\")\n",
    "metadata_extractor_runner.add_metadata_extractor(number_of_good_in_text)\n",
    "metadata_extractor_runner.run(\"This is a text about how good life is :)\")"
   ]
  },
  {
   "cell_type": "markdown",
   "metadata": {},
   "source": [
    "To run the extractors on all the columns on dataframe we can use `run_on_dataframe(dataframe: DataFrame, text_column: str) -> DataFrame`\n",
    "using this funtion we can supply a dataframe and the name of the text column and as return the funtion will return new dataframe with all the metadata values as new columns"
   ]
  },
  {
   "cell_type": "code",
   "execution_count": 7,
   "metadata": {},
   "outputs": [
    {
     "name": "stdout",
     "output_type": "stream",
     "text": [
      "The original dataset had 2 columns\n",
      "Processing...\n",
      "The transformed dataset has 29 columns\n"
     ]
    }
   ],
   "source": [
    "from elemeta.dataset.dataset import get_imdb_reviews\n",
    "reviews = get_imdb_reviews()[:200]\n",
    "print(\"The original dataset had {} columns\".format(reviews.shape[1]))\n",
    "\n",
    "# The enrichment process\n",
    "print(\"Processing...\")\n",
    "\n",
    "reviews = metadata_extractor_runner.run_on_dataframe(dataframe=reviews,text_column='review')\n",
    "print(\"The transformed dataset has {} columns\".format(reviews.shape[1]))"
   ]
  },
  {
   "cell_type": "code",
   "execution_count": 8,
   "metadata": {
    "tags": []
   },
   "outputs": [
    {
     "data": {
      "text/html": [
       "<div>\n",
       "<style scoped>\n",
       "    .dataframe tbody tr th:only-of-type {\n",
       "        vertical-align: middle;\n",
       "    }\n",
       "\n",
       "    .dataframe tbody tr th {\n",
       "        vertical-align: top;\n",
       "    }\n",
       "\n",
       "    .dataframe thead th {\n",
       "        text-align: right;\n",
       "    }\n",
       "</style>\n",
       "<table border=\"1\" class=\"dataframe\">\n",
       "  <thead>\n",
       "    <tr style=\"text-align: right;\">\n",
       "      <th></th>\n",
       "      <th>review</th>\n",
       "      <th>sentiment</th>\n",
       "      <th>detect_langauge</th>\n",
       "      <th>emoji_count</th>\n",
       "      <th>text_complexity</th>\n",
       "      <th>unique_word_ratio</th>\n",
       "      <th>unique_word_count</th>\n",
       "      <th>word_regex_matches_count</th>\n",
       "      <th>number_count</th>\n",
       "      <th>out_of_vocabulary_count</th>\n",
       "      <th>...</th>\n",
       "      <th>capital_letters_ratio</th>\n",
       "      <th>regex_match_count</th>\n",
       "      <th>email_count</th>\n",
       "      <th>link_count</th>\n",
       "      <th>hashtag_count</th>\n",
       "      <th>mention_count</th>\n",
       "      <th>syllable_count</th>\n",
       "      <th>acronym_count</th>\n",
       "      <th>date_count</th>\n",
       "      <th>number_of_good_in_text</th>\n",
       "    </tr>\n",
       "  </thead>\n",
       "  <tbody>\n",
       "    <tr>\n",
       "      <th>0</th>\n",
       "      <td>One of the other reviewers has mentioned that ...</td>\n",
       "      <td>positive</td>\n",
       "      <td>en</td>\n",
       "      <td>0</td>\n",
       "      <td>70.02</td>\n",
       "      <td>0.726829</td>\n",
       "      <td>149</td>\n",
       "      <td>380</td>\n",
       "      <td>1</td>\n",
       "      <td>123</td>\n",
       "      <td>...</td>\n",
       "      <td>0.031250</td>\n",
       "      <td>1</td>\n",
       "      <td>0</td>\n",
       "      <td>0</td>\n",
       "      <td>0</td>\n",
       "      <td>0</td>\n",
       "      <td>419</td>\n",
       "      <td>14</td>\n",
       "      <td>2</td>\n",
       "      <td>0</td>\n",
       "    </tr>\n",
       "    <tr>\n",
       "      <th>1</th>\n",
       "      <td>A wonderful little production. &lt;br /&gt;&lt;br /&gt;The...</td>\n",
       "      <td>positive</td>\n",
       "      <td>en</td>\n",
       "      <td>0</td>\n",
       "      <td>56.49</td>\n",
       "      <td>0.739130</td>\n",
       "      <td>85</td>\n",
       "      <td>201</td>\n",
       "      <td>0</td>\n",
       "      <td>75</td>\n",
       "      <td>...</td>\n",
       "      <td>0.020177</td>\n",
       "      <td>1</td>\n",
       "      <td>0</td>\n",
       "      <td>0</td>\n",
       "      <td>0</td>\n",
       "      <td>0</td>\n",
       "      <td>251</td>\n",
       "      <td>4</td>\n",
       "      <td>0</td>\n",
       "      <td>0</td>\n",
       "    </tr>\n",
       "    <tr>\n",
       "      <th>2</th>\n",
       "      <td>I thought this was a wonderful way to spend ti...</td>\n",
       "      <td>positive</td>\n",
       "      <td>en</td>\n",
       "      <td>0</td>\n",
       "      <td>60.28</td>\n",
       "      <td>0.776000</td>\n",
       "      <td>97</td>\n",
       "      <td>205</td>\n",
       "      <td>1</td>\n",
       "      <td>58</td>\n",
       "      <td>...</td>\n",
       "      <td>0.031944</td>\n",
       "      <td>1</td>\n",
       "      <td>0</td>\n",
       "      <td>0</td>\n",
       "      <td>0</td>\n",
       "      <td>0</td>\n",
       "      <td>229</td>\n",
       "      <td>3</td>\n",
       "      <td>3</td>\n",
       "      <td>0</td>\n",
       "    </tr>\n",
       "    <tr>\n",
       "      <th>3</th>\n",
       "      <td>Basically there's a family where a little boy ...</td>\n",
       "      <td>negative</td>\n",
       "      <td>en</td>\n",
       "      <td>0</td>\n",
       "      <td>74.69</td>\n",
       "      <td>0.694737</td>\n",
       "      <td>66</td>\n",
       "      <td>175</td>\n",
       "      <td>2</td>\n",
       "      <td>64</td>\n",
       "      <td>...</td>\n",
       "      <td>0.042403</td>\n",
       "      <td>1</td>\n",
       "      <td>0</td>\n",
       "      <td>0</td>\n",
       "      <td>0</td>\n",
       "      <td>0</td>\n",
       "      <td>183</td>\n",
       "      <td>5</td>\n",
       "      <td>1</td>\n",
       "      <td>0</td>\n",
       "    </tr>\n",
       "    <tr>\n",
       "      <th>4</th>\n",
       "      <td>Petter Mattei's \"Love in the Time of Money\" is...</td>\n",
       "      <td>positive</td>\n",
       "      <td>en</td>\n",
       "      <td>0</td>\n",
       "      <td>70.43</td>\n",
       "      <td>0.784314</td>\n",
       "      <td>120</td>\n",
       "      <td>283</td>\n",
       "      <td>0</td>\n",
       "      <td>93</td>\n",
       "      <td>...</td>\n",
       "      <td>0.032946</td>\n",
       "      <td>1</td>\n",
       "      <td>0</td>\n",
       "      <td>0</td>\n",
       "      <td>0</td>\n",
       "      <td>0</td>\n",
       "      <td>327</td>\n",
       "      <td>3</td>\n",
       "      <td>2</td>\n",
       "      <td>2</td>\n",
       "    </tr>\n",
       "    <tr>\n",
       "      <th>...</th>\n",
       "      <td>...</td>\n",
       "      <td>...</td>\n",
       "      <td>...</td>\n",
       "      <td>...</td>\n",
       "      <td>...</td>\n",
       "      <td>...</td>\n",
       "      <td>...</td>\n",
       "      <td>...</td>\n",
       "      <td>...</td>\n",
       "      <td>...</td>\n",
       "      <td>...</td>\n",
       "      <td>...</td>\n",
       "      <td>...</td>\n",
       "      <td>...</td>\n",
       "      <td>...</td>\n",
       "      <td>...</td>\n",
       "      <td>...</td>\n",
       "      <td>...</td>\n",
       "      <td>...</td>\n",
       "      <td>...</td>\n",
       "      <td>...</td>\n",
       "    </tr>\n",
       "    <tr>\n",
       "      <th>195</th>\n",
       "      <td>Phantasm ....Class. Phantasm II.....awesome. P...</td>\n",
       "      <td>negative</td>\n",
       "      <td>en</td>\n",
       "      <td>0</td>\n",
       "      <td>74.93</td>\n",
       "      <td>0.780142</td>\n",
       "      <td>110</td>\n",
       "      <td>247</td>\n",
       "      <td>3</td>\n",
       "      <td>106</td>\n",
       "      <td>...</td>\n",
       "      <td>0.052632</td>\n",
       "      <td>1</td>\n",
       "      <td>0</td>\n",
       "      <td>0</td>\n",
       "      <td>0</td>\n",
       "      <td>0</td>\n",
       "      <td>224</td>\n",
       "      <td>5</td>\n",
       "      <td>2</td>\n",
       "      <td>1</td>\n",
       "    </tr>\n",
       "    <tr>\n",
       "      <th>196</th>\n",
       "      <td>Ludicrous. Angelic 9-year-old Annakin turns in...</td>\n",
       "      <td>negative</td>\n",
       "      <td>en</td>\n",
       "      <td>0</td>\n",
       "      <td>71.65</td>\n",
       "      <td>0.773973</td>\n",
       "      <td>113</td>\n",
       "      <td>264</td>\n",
       "      <td>2</td>\n",
       "      <td>104</td>\n",
       "      <td>...</td>\n",
       "      <td>0.026578</td>\n",
       "      <td>1</td>\n",
       "      <td>0</td>\n",
       "      <td>0</td>\n",
       "      <td>0</td>\n",
       "      <td>0</td>\n",
       "      <td>287</td>\n",
       "      <td>4</td>\n",
       "      <td>5</td>\n",
       "      <td>0</td>\n",
       "    </tr>\n",
       "    <tr>\n",
       "      <th>197</th>\n",
       "      <td>Scotty (Grant Cramer, who would go on to star ...</td>\n",
       "      <td>negative</td>\n",
       "      <td>en</td>\n",
       "      <td>0</td>\n",
       "      <td>76.86</td>\n",
       "      <td>0.789855</td>\n",
       "      <td>109</td>\n",
       "      <td>233</td>\n",
       "      <td>1</td>\n",
       "      <td>92</td>\n",
       "      <td>...</td>\n",
       "      <td>0.038835</td>\n",
       "      <td>1</td>\n",
       "      <td>0</td>\n",
       "      <td>0</td>\n",
       "      <td>0</td>\n",
       "      <td>0</td>\n",
       "      <td>223</td>\n",
       "      <td>4</td>\n",
       "      <td>1</td>\n",
       "      <td>1</td>\n",
       "    </tr>\n",
       "    <tr>\n",
       "      <th>198</th>\n",
       "      <td>If you keep rigid historical perspective out o...</td>\n",
       "      <td>positive</td>\n",
       "      <td>en</td>\n",
       "      <td>0</td>\n",
       "      <td>65.25</td>\n",
       "      <td>0.716783</td>\n",
       "      <td>205</td>\n",
       "      <td>606</td>\n",
       "      <td>1</td>\n",
       "      <td>163</td>\n",
       "      <td>...</td>\n",
       "      <td>0.038009</td>\n",
       "      <td>1</td>\n",
       "      <td>0</td>\n",
       "      <td>0</td>\n",
       "      <td>0</td>\n",
       "      <td>0</td>\n",
       "      <td>701</td>\n",
       "      <td>13</td>\n",
       "      <td>0</td>\n",
       "      <td>1</td>\n",
       "    </tr>\n",
       "    <tr>\n",
       "      <th>199</th>\n",
       "      <td>The film quickly gets to a major chase scene w...</td>\n",
       "      <td>negative</td>\n",
       "      <td>en</td>\n",
       "      <td>0</td>\n",
       "      <td>72.70</td>\n",
       "      <td>0.824742</td>\n",
       "      <td>80</td>\n",
       "      <td>141</td>\n",
       "      <td>0</td>\n",
       "      <td>37</td>\n",
       "      <td>...</td>\n",
       "      <td>0.019493</td>\n",
       "      <td>1</td>\n",
       "      <td>0</td>\n",
       "      <td>0</td>\n",
       "      <td>0</td>\n",
       "      <td>0</td>\n",
       "      <td>156</td>\n",
       "      <td>2</td>\n",
       "      <td>1</td>\n",
       "      <td>0</td>\n",
       "    </tr>\n",
       "  </tbody>\n",
       "</table>\n",
       "<p>200 rows × 29 columns</p>\n",
       "</div>"
      ],
      "text/plain": [
       "                                                review sentiment  \\\n",
       "0    One of the other reviewers has mentioned that ...  positive   \n",
       "1    A wonderful little production. <br /><br />The...  positive   \n",
       "2    I thought this was a wonderful way to spend ti...  positive   \n",
       "3    Basically there's a family where a little boy ...  negative   \n",
       "4    Petter Mattei's \"Love in the Time of Money\" is...  positive   \n",
       "..                                                 ...       ...   \n",
       "195  Phantasm ....Class. Phantasm II.....awesome. P...  negative   \n",
       "196  Ludicrous. Angelic 9-year-old Annakin turns in...  negative   \n",
       "197  Scotty (Grant Cramer, who would go on to star ...  negative   \n",
       "198  If you keep rigid historical perspective out o...  positive   \n",
       "199  The film quickly gets to a major chase scene w...  negative   \n",
       "\n",
       "    detect_langauge  emoji_count  text_complexity  unique_word_ratio  \\\n",
       "0                en            0            70.02           0.726829   \n",
       "1                en            0            56.49           0.739130   \n",
       "2                en            0            60.28           0.776000   \n",
       "3                en            0            74.69           0.694737   \n",
       "4                en            0            70.43           0.784314   \n",
       "..              ...          ...              ...                ...   \n",
       "195              en            0            74.93           0.780142   \n",
       "196              en            0            71.65           0.773973   \n",
       "197              en            0            76.86           0.789855   \n",
       "198              en            0            65.25           0.716783   \n",
       "199              en            0            72.70           0.824742   \n",
       "\n",
       "     unique_word_count  word_regex_matches_count  number_count  \\\n",
       "0                  149                       380             1   \n",
       "1                   85                       201             0   \n",
       "2                   97                       205             1   \n",
       "3                   66                       175             2   \n",
       "4                  120                       283             0   \n",
       "..                 ...                       ...           ...   \n",
       "195                110                       247             3   \n",
       "196                113                       264             2   \n",
       "197                109                       233             1   \n",
       "198                205                       606             1   \n",
       "199                 80                       141             0   \n",
       "\n",
       "     out_of_vocabulary_count  ...  capital_letters_ratio  regex_match_count  \\\n",
       "0                        123  ...               0.031250                  1   \n",
       "1                         75  ...               0.020177                  1   \n",
       "2                         58  ...               0.031944                  1   \n",
       "3                         64  ...               0.042403                  1   \n",
       "4                         93  ...               0.032946                  1   \n",
       "..                       ...  ...                    ...                ...   \n",
       "195                      106  ...               0.052632                  1   \n",
       "196                      104  ...               0.026578                  1   \n",
       "197                       92  ...               0.038835                  1   \n",
       "198                      163  ...               0.038009                  1   \n",
       "199                       37  ...               0.019493                  1   \n",
       "\n",
       "     email_count  link_count  hashtag_count  mention_count  syllable_count  \\\n",
       "0              0           0              0              0             419   \n",
       "1              0           0              0              0             251   \n",
       "2              0           0              0              0             229   \n",
       "3              0           0              0              0             183   \n",
       "4              0           0              0              0             327   \n",
       "..           ...         ...            ...            ...             ...   \n",
       "195            0           0              0              0             224   \n",
       "196            0           0              0              0             287   \n",
       "197            0           0              0              0             223   \n",
       "198            0           0              0              0             701   \n",
       "199            0           0              0              0             156   \n",
       "\n",
       "     acronym_count  date_count  number_of_good_in_text  \n",
       "0               14           2                       0  \n",
       "1                4           0                       0  \n",
       "2                3           3                       0  \n",
       "3                5           1                       0  \n",
       "4                3           2                       2  \n",
       "..             ...         ...                     ...  \n",
       "195              5           2                       1  \n",
       "196              4           5                       0  \n",
       "197              4           1                       1  \n",
       "198             13           0                       1  \n",
       "199              2           1                       0  \n",
       "\n",
       "[200 rows x 29 columns]"
      ]
     },
     "execution_count": 8,
     "metadata": {},
     "output_type": "execute_result"
    }
   ],
   "source": [
    "reviews"
   ]
  },
  {
   "cell_type": "code",
   "execution_count": null,
   "metadata": {},
   "outputs": [],
   "source": []
  }
 ],
 "metadata": {
  "colab": {
   "authorship_tag": "ABX9TyPLkytBSVbuhdxnmUw+F3CU",
   "provenance": []
  },
  "kernelspec": {
   "display_name": "Python 3 (ipykernel)",
   "language": "python",
   "name": "python3"
  },
  "language_info": {
   "codemirror_mode": {
    "name": "ipython",
    "version": 3
   },
   "file_extension": ".py",
   "mimetype": "text/x-python",
   "name": "python",
   "nbconvert_exporter": "python",
   "pygments_lexer": "ipython3",
   "version": "3.11.1"
  }
 },
 "nbformat": 4,
 "nbformat_minor": 4
}
